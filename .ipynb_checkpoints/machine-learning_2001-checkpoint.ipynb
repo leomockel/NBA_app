{
 "cells": [
  {
   "cell_type": "markdown",
   "metadata": {},
   "source": [
    "# Machine Learning to predict wins in season 2001"
   ]
  },
  {
   "cell_type": "code",
   "execution_count": 1,
   "metadata": {},
   "outputs": [],
   "source": [
    "import pandas as pd\n",
    "import numpy as np"
   ]
  },
  {
   "cell_type": "code",
   "execution_count": 2,
   "metadata": {},
   "outputs": [],
   "source": [
    "data = pd.read_csv(\"data/ml_season_2001.csv\")"
   ]
  },
  {
   "cell_type": "code",
   "execution_count": 3,
   "metadata": {},
   "outputs": [
    {
     "data": {
      "text/html": [
       "<div>\n",
       "<style scoped>\n",
       "    .dataframe tbody tr th:only-of-type {\n",
       "        vertical-align: middle;\n",
       "    }\n",
       "\n",
       "    .dataframe tbody tr th {\n",
       "        vertical-align: top;\n",
       "    }\n",
       "\n",
       "    .dataframe thead th {\n",
       "        text-align: right;\n",
       "    }\n",
       "</style>\n",
       "<table border=\"1\" class=\"dataframe\">\n",
       "  <thead>\n",
       "    <tr style=\"text-align: right;\">\n",
       "      <th></th>\n",
       "      <th>GAME_ID</th>\n",
       "      <th>GAME_DATE</th>\n",
       "      <th>HOME</th>\n",
       "      <th>AWAY</th>\n",
       "      <th>Height-1</th>\n",
       "      <th>Weight-1</th>\n",
       "      <th>Age-1</th>\n",
       "      <th>Mpg-1</th>\n",
       "      <th>Ppg-1</th>\n",
       "      <th>Fg-1</th>\n",
       "      <th>...</th>\n",
       "      <th>Fg-10</th>\n",
       "      <th>Fg3-10</th>\n",
       "      <th>Ft-10</th>\n",
       "      <th>Rpg-10</th>\n",
       "      <th>Apg-10</th>\n",
       "      <th>Spg-10</th>\n",
       "      <th>Bp-10</th>\n",
       "      <th>Tpg-10</th>\n",
       "      <th>Fpg-10</th>\n",
       "      <th>WL</th>\n",
       "    </tr>\n",
       "  </thead>\n",
       "  <tbody>\n",
       "    <tr>\n",
       "      <th>0</th>\n",
       "      <td>20001020</td>\n",
       "      <td>2001-03-27</td>\n",
       "      <td>ATL</td>\n",
       "      <td>BOS</td>\n",
       "      <td>-0.12</td>\n",
       "      <td>-0.13</td>\n",
       "      <td>-0.33</td>\n",
       "      <td>0.14</td>\n",
       "      <td>0.32</td>\n",
       "      <td>0.06</td>\n",
       "      <td>...</td>\n",
       "      <td>-0.10</td>\n",
       "      <td>0.47</td>\n",
       "      <td>0.18</td>\n",
       "      <td>-0.08</td>\n",
       "      <td>0.03</td>\n",
       "      <td>-0.08</td>\n",
       "      <td>-0.24</td>\n",
       "      <td>0.08</td>\n",
       "      <td>-0.10</td>\n",
       "      <td>0</td>\n",
       "    </tr>\n",
       "    <tr>\n",
       "      <th>1</th>\n",
       "      <td>20000444</td>\n",
       "      <td>2001-01-02</td>\n",
       "      <td>ATL</td>\n",
       "      <td>BOS</td>\n",
       "      <td>-0.12</td>\n",
       "      <td>-0.13</td>\n",
       "      <td>-0.33</td>\n",
       "      <td>0.14</td>\n",
       "      <td>0.32</td>\n",
       "      <td>0.06</td>\n",
       "      <td>...</td>\n",
       "      <td>-0.10</td>\n",
       "      <td>0.47</td>\n",
       "      <td>0.18</td>\n",
       "      <td>-0.08</td>\n",
       "      <td>0.03</td>\n",
       "      <td>-0.08</td>\n",
       "      <td>-0.24</td>\n",
       "      <td>0.08</td>\n",
       "      <td>-0.10</td>\n",
       "      <td>1</td>\n",
       "    </tr>\n",
       "    <tr>\n",
       "      <th>2</th>\n",
       "      <td>20000840</td>\n",
       "      <td>2001-03-02</td>\n",
       "      <td>ATL</td>\n",
       "      <td>CHH</td>\n",
       "      <td>-0.07</td>\n",
       "      <td>-0.14</td>\n",
       "      <td>0.05</td>\n",
       "      <td>-0.02</td>\n",
       "      <td>0.19</td>\n",
       "      <td>0.02</td>\n",
       "      <td>...</td>\n",
       "      <td>0.00</td>\n",
       "      <td>0.47</td>\n",
       "      <td>-0.02</td>\n",
       "      <td>-0.04</td>\n",
       "      <td>0.02</td>\n",
       "      <td>0.08</td>\n",
       "      <td>0.05</td>\n",
       "      <td>0.15</td>\n",
       "      <td>0.07</td>\n",
       "      <td>0</td>\n",
       "    </tr>\n",
       "    <tr>\n",
       "      <th>3</th>\n",
       "      <td>20000004</td>\n",
       "      <td>2000-10-31</td>\n",
       "      <td>ATL</td>\n",
       "      <td>CHH</td>\n",
       "      <td>-0.07</td>\n",
       "      <td>-0.14</td>\n",
       "      <td>0.05</td>\n",
       "      <td>-0.02</td>\n",
       "      <td>0.19</td>\n",
       "      <td>0.02</td>\n",
       "      <td>...</td>\n",
       "      <td>0.00</td>\n",
       "      <td>0.47</td>\n",
       "      <td>-0.02</td>\n",
       "      <td>-0.04</td>\n",
       "      <td>0.02</td>\n",
       "      <td>0.08</td>\n",
       "      <td>0.05</td>\n",
       "      <td>0.15</td>\n",
       "      <td>0.07</td>\n",
       "      <td>0</td>\n",
       "    </tr>\n",
       "    <tr>\n",
       "      <th>4</th>\n",
       "      <td>20000903</td>\n",
       "      <td>2001-03-10</td>\n",
       "      <td>ATL</td>\n",
       "      <td>CHI</td>\n",
       "      <td>-0.12</td>\n",
       "      <td>-0.13</td>\n",
       "      <td>-0.24</td>\n",
       "      <td>0.19</td>\n",
       "      <td>0.34</td>\n",
       "      <td>0.00</td>\n",
       "      <td>...</td>\n",
       "      <td>0.02</td>\n",
       "      <td>0.47</td>\n",
       "      <td>0.46</td>\n",
       "      <td>-0.22</td>\n",
       "      <td>-0.01</td>\n",
       "      <td>-0.12</td>\n",
       "      <td>-0.14</td>\n",
       "      <td>0.08</td>\n",
       "      <td>-0.10</td>\n",
       "      <td>1</td>\n",
       "    </tr>\n",
       "    <tr>\n",
       "      <th>...</th>\n",
       "      <td>...</td>\n",
       "      <td>...</td>\n",
       "      <td>...</td>\n",
       "      <td>...</td>\n",
       "      <td>...</td>\n",
       "      <td>...</td>\n",
       "      <td>...</td>\n",
       "      <td>...</td>\n",
       "      <td>...</td>\n",
       "      <td>...</td>\n",
       "      <td>...</td>\n",
       "      <td>...</td>\n",
       "      <td>...</td>\n",
       "      <td>...</td>\n",
       "      <td>...</td>\n",
       "      <td>...</td>\n",
       "      <td>...</td>\n",
       "      <td>...</td>\n",
       "      <td>...</td>\n",
       "      <td>...</td>\n",
       "      <td>...</td>\n",
       "    </tr>\n",
       "    <tr>\n",
       "      <th>1184</th>\n",
       "      <td>20000502</td>\n",
       "      <td>2001-01-10</td>\n",
       "      <td>WAS</td>\n",
       "      <td>SEA</td>\n",
       "      <td>0.04</td>\n",
       "      <td>0.16</td>\n",
       "      <td>0.19</td>\n",
       "      <td>-0.20</td>\n",
       "      <td>-0.22</td>\n",
       "      <td>-0.09</td>\n",
       "      <td>...</td>\n",
       "      <td>-0.07</td>\n",
       "      <td>0.00</td>\n",
       "      <td>0.20</td>\n",
       "      <td>0.22</td>\n",
       "      <td>0.05</td>\n",
       "      <td>0.16</td>\n",
       "      <td>-0.05</td>\n",
       "      <td>-0.07</td>\n",
       "      <td>0.00</td>\n",
       "      <td>0</td>\n",
       "    </tr>\n",
       "    <tr>\n",
       "      <th>1185</th>\n",
       "      <td>20001182</td>\n",
       "      <td>2001-04-18</td>\n",
       "      <td>WAS</td>\n",
       "      <td>TOR</td>\n",
       "      <td>-0.03</td>\n",
       "      <td>0.00</td>\n",
       "      <td>0.57</td>\n",
       "      <td>-0.16</td>\n",
       "      <td>-0.37</td>\n",
       "      <td>-0.09</td>\n",
       "      <td>...</td>\n",
       "      <td>0.08</td>\n",
       "      <td>-0.24</td>\n",
       "      <td>-0.29</td>\n",
       "      <td>0.02</td>\n",
       "      <td>0.07</td>\n",
       "      <td>0.00</td>\n",
       "      <td>-0.05</td>\n",
       "      <td>-0.07</td>\n",
       "      <td>-0.19</td>\n",
       "      <td>0</td>\n",
       "    </tr>\n",
       "    <tr>\n",
       "      <th>1186</th>\n",
       "      <td>20000794</td>\n",
       "      <td>2001-02-24</td>\n",
       "      <td>WAS</td>\n",
       "      <td>TOR</td>\n",
       "      <td>-0.03</td>\n",
       "      <td>0.00</td>\n",
       "      <td>0.57</td>\n",
       "      <td>-0.16</td>\n",
       "      <td>-0.37</td>\n",
       "      <td>-0.09</td>\n",
       "      <td>...</td>\n",
       "      <td>0.08</td>\n",
       "      <td>-0.24</td>\n",
       "      <td>-0.29</td>\n",
       "      <td>0.02</td>\n",
       "      <td>0.07</td>\n",
       "      <td>0.00</td>\n",
       "      <td>-0.05</td>\n",
       "      <td>-0.07</td>\n",
       "      <td>-0.19</td>\n",
       "      <td>0</td>\n",
       "    </tr>\n",
       "    <tr>\n",
       "      <th>1187</th>\n",
       "      <td>20000854</td>\n",
       "      <td>2001-03-04</td>\n",
       "      <td>WAS</td>\n",
       "      <td>UTA</td>\n",
       "      <td>-0.07</td>\n",
       "      <td>-0.02</td>\n",
       "      <td>0.29</td>\n",
       "      <td>0.03</td>\n",
       "      <td>0.13</td>\n",
       "      <td>-0.06</td>\n",
       "      <td>...</td>\n",
       "      <td>-0.02</td>\n",
       "      <td>-0.42</td>\n",
       "      <td>-0.23</td>\n",
       "      <td>0.28</td>\n",
       "      <td>0.02</td>\n",
       "      <td>0.04</td>\n",
       "      <td>0.03</td>\n",
       "      <td>-0.09</td>\n",
       "      <td>-0.17</td>\n",
       "      <td>0</td>\n",
       "    </tr>\n",
       "    <tr>\n",
       "      <th>1188</th>\n",
       "      <td>20000763</td>\n",
       "      <td>2001-02-20</td>\n",
       "      <td>WAS</td>\n",
       "      <td>VAN</td>\n",
       "      <td>0.12</td>\n",
       "      <td>0.14</td>\n",
       "      <td>0.62</td>\n",
       "      <td>-0.14</td>\n",
       "      <td>0.01</td>\n",
       "      <td>-0.08</td>\n",
       "      <td>...</td>\n",
       "      <td>0.04</td>\n",
       "      <td>0.00</td>\n",
       "      <td>-0.19</td>\n",
       "      <td>0.19</td>\n",
       "      <td>0.11</td>\n",
       "      <td>0.20</td>\n",
       "      <td>0.00</td>\n",
       "      <td>-0.02</td>\n",
       "      <td>-0.07</td>\n",
       "      <td>0</td>\n",
       "    </tr>\n",
       "  </tbody>\n",
       "</table>\n",
       "<p>1189 rows × 145 columns</p>\n",
       "</div>"
      ],
      "text/plain": [
       "       GAME_ID   GAME_DATE HOME AWAY  Height-1  Weight-1  Age-1  Mpg-1  Ppg-1  \\\n",
       "0     20001020  2001-03-27  ATL  BOS     -0.12     -0.13  -0.33   0.14   0.32   \n",
       "1     20000444  2001-01-02  ATL  BOS     -0.12     -0.13  -0.33   0.14   0.32   \n",
       "2     20000840  2001-03-02  ATL  CHH     -0.07     -0.14   0.05  -0.02   0.19   \n",
       "3     20000004  2000-10-31  ATL  CHH     -0.07     -0.14   0.05  -0.02   0.19   \n",
       "4     20000903  2001-03-10  ATL  CHI     -0.12     -0.13  -0.24   0.19   0.34   \n",
       "...        ...         ...  ...  ...       ...       ...    ...    ...    ...   \n",
       "1184  20000502  2001-01-10  WAS  SEA      0.04      0.16   0.19  -0.20  -0.22   \n",
       "1185  20001182  2001-04-18  WAS  TOR     -0.03      0.00   0.57  -0.16  -0.37   \n",
       "1186  20000794  2001-02-24  WAS  TOR     -0.03      0.00   0.57  -0.16  -0.37   \n",
       "1187  20000854  2001-03-04  WAS  UTA     -0.07     -0.02   0.29   0.03   0.13   \n",
       "1188  20000763  2001-02-20  WAS  VAN      0.12      0.14   0.62  -0.14   0.01   \n",
       "\n",
       "      Fg-1  ...  Fg-10  Fg3-10  Ft-10  Rpg-10  Apg-10  Spg-10  Bp-10  Tpg-10  \\\n",
       "0     0.06  ...  -0.10    0.47   0.18   -0.08    0.03   -0.08  -0.24    0.08   \n",
       "1     0.06  ...  -0.10    0.47   0.18   -0.08    0.03   -0.08  -0.24    0.08   \n",
       "2     0.02  ...   0.00    0.47  -0.02   -0.04    0.02    0.08   0.05    0.15   \n",
       "3     0.02  ...   0.00    0.47  -0.02   -0.04    0.02    0.08   0.05    0.15   \n",
       "4     0.00  ...   0.02    0.47   0.46   -0.22   -0.01   -0.12  -0.14    0.08   \n",
       "...    ...  ...    ...     ...    ...     ...     ...     ...    ...     ...   \n",
       "1184 -0.09  ...  -0.07    0.00   0.20    0.22    0.05    0.16  -0.05   -0.07   \n",
       "1185 -0.09  ...   0.08   -0.24  -0.29    0.02    0.07    0.00  -0.05   -0.07   \n",
       "1186 -0.09  ...   0.08   -0.24  -0.29    0.02    0.07    0.00  -0.05   -0.07   \n",
       "1187 -0.06  ...  -0.02   -0.42  -0.23    0.28    0.02    0.04   0.03   -0.09   \n",
       "1188 -0.08  ...   0.04    0.00  -0.19    0.19    0.11    0.20   0.00   -0.02   \n",
       "\n",
       "      Fpg-10  WL  \n",
       "0      -0.10   0  \n",
       "1      -0.10   1  \n",
       "2       0.07   0  \n",
       "3       0.07   0  \n",
       "4      -0.10   1  \n",
       "...      ...  ..  \n",
       "1184    0.00   0  \n",
       "1185   -0.19   0  \n",
       "1186   -0.19   0  \n",
       "1187   -0.17   0  \n",
       "1188   -0.07   0  \n",
       "\n",
       "[1189 rows x 145 columns]"
      ]
     },
     "execution_count": 3,
     "metadata": {},
     "output_type": "execute_result"
    }
   ],
   "source": [
    "data"
   ]
  },
  {
   "cell_type": "code",
   "execution_count": 4,
   "metadata": {},
   "outputs": [],
   "source": [
    "X = data.iloc[:,4:-1]"
   ]
  },
  {
   "cell_type": "code",
   "execution_count": 5,
   "metadata": {},
   "outputs": [],
   "source": [
    "y = data[\"WL\"]"
   ]
  },
  {
   "cell_type": "code",
   "execution_count": 6,
   "metadata": {},
   "outputs": [],
   "source": [
    "from sklearn.model_selection import train_test_split\n",
    "X_train, X_test, y_train, y_test = train_test_split(X, y, test_size=0.2, stratify=y, random_state=3)"
   ]
  },
  {
   "cell_type": "code",
   "execution_count": 7,
   "metadata": {},
   "outputs": [],
   "source": [
    "from sklearn.metrics import accuracy_score"
   ]
  },
  {
   "cell_type": "markdown",
   "metadata": {},
   "source": [
    "### ML Models"
   ]
  },
  {
   "cell_type": "code",
   "execution_count": 94,
   "metadata": {},
   "outputs": [
    {
     "name": "stdout",
     "output_type": "stream",
     "text": [
      "For KNN, train accuracy = 0.6992639327024185.\n",
      "For KNN, test accuracy = 0.6764705882352942.\n"
     ]
    }
   ],
   "source": [
    "from sklearn.neighbors import KNeighborsClassifier\n",
    "knn = KNeighborsClassifier(n_neighbors=26)\n",
    "knn.fit(X_train, y_train)\n",
    "y_pred = knn.predict(X_test)\n",
    "acc = accuracy_score(y_test, y_pred)\n",
    "y_pred2 = knn.predict(X_train)\n",
    "acc2 = accuracy_score(y_train, y_pred2)\n",
    "print(f\"For KNN, train accuracy = {acc2}.\")\n",
    "print(f\"For KNN, test accuracy = {acc}.\")"
   ]
  },
  {
   "cell_type": "code",
   "execution_count": 20,
   "metadata": {},
   "outputs": [
    {
     "name": "stdout",
     "output_type": "stream",
     "text": [
      "For Logistic regression, train accuracy = 0.676130389064143.\n",
      "For Logistic regression, accuracy = 0.6596638655462185.\n"
     ]
    }
   ],
   "source": [
    "from sklearn.linear_model import LogisticRegression\n",
    "logr = LogisticRegression(C=0.011)\n",
    "logr.fit(X_train, y_train)\n",
    "y_pred = logr.predict(X_test)\n",
    "acc = accuracy_score(y_test, y_pred)\n",
    "y_pred2 = logr.predict(X_train)\n",
    "acc2 = accuracy_score(y_train, y_pred2)\n",
    "print(f\"For Logistic regression, train accuracy = {acc2}.\")\n",
    "print(f\"For Logistic regression, accuracy = {acc}.\")"
   ]
  },
  {
   "cell_type": "code",
   "execution_count": 32,
   "metadata": {},
   "outputs": [
    {
     "name": "stdout",
     "output_type": "stream",
     "text": [
      "For SVC, train accuracy = 0.7150368033648791.\n",
      "For SVC, test accuracy = 0.6764705882352942.\n"
     ]
    }
   ],
   "source": [
    "from sklearn.svm import SVC\n",
    "svc = SVC(C=0.25)\n",
    "svc.fit(X_train, y_train)\n",
    "y_pred = svc.predict(X_test)\n",
    "acc = accuracy_score(y_test, y_pred)\n",
    "y_pred2 = svc.predict(X_train)\n",
    "acc2 = accuracy_score(y_train, y_pred2)\n",
    "print(f\"For SVC, train accuracy = {acc2}.\")\n",
    "print(f\"For SVC, test accuracy = {acc}.\")"
   ]
  },
  {
   "cell_type": "code",
   "execution_count": 91,
   "metadata": {},
   "outputs": [
    {
     "name": "stdout",
     "output_type": "stream",
     "text": [
      "For XGboost, train accuracy = 0.7350157728706624.\n",
      "For XGboost, accuracy = 0.6722689075630253.\n"
     ]
    }
   ],
   "source": [
    "import xgboost as xgb\n",
    "\n",
    "xg = xgb.XGBClassifier(eta = 0.007, max_depth = 5, colsample_bytree = 0.5, subsample = 0.2, min_child_weight = 4)\n",
    "xg.fit(X_train,y_train)\n",
    "y_pred = xg.predict(X_test)\n",
    "acc = accuracy_score(y_test, y_pred)\n",
    "y_pred2 = xg.predict(X_train)\n",
    "acc2 = accuracy_score(y_train, y_pred2)\n",
    "print(f\"For XGboost, train accuracy = {acc2}.\")\n",
    "print(f\"For XGboost, accuracy = {acc}.\")"
   ]
  },
  {
   "cell_type": "code",
   "execution_count": 88,
   "metadata": {},
   "outputs": [
    {
     "data": {
      "text/plain": [
       "{'colsample_bytree': 0.5,\n",
       " 'eta': 0.011,\n",
       " 'max_depth': 6,\n",
       " 'min_child_weight': 4,\n",
       " 'subsample': 0.2}"
      ]
     },
     "execution_count": 88,
     "metadata": {},
     "output_type": "execute_result"
    }
   ],
   "source": [
    "grid.best_params_"
   ]
  },
  {
   "cell_type": "markdown",
   "metadata": {},
   "source": [
    "### ML Optimization"
   ]
  },
  {
   "cell_type": "code",
   "execution_count": 63,
   "metadata": {},
   "outputs": [
    {
     "name": "stdout",
     "output_type": "stream",
     "text": [
      "Fitting 3 folds for each of 25 candidates, totalling 75 fits\n"
     ]
    },
    {
     "name": "stderr",
     "output_type": "stream",
     "text": [
      "[Parallel(n_jobs=-1)]: Using backend LokyBackend with 4 concurrent workers.\n",
      "[Parallel(n_jobs=-1)]: Done  42 tasks      | elapsed:    2.5s\n",
      "[Parallel(n_jobs=-1)]: Done  75 out of  75 | elapsed:    3.6s finished\n"
     ]
    },
    {
     "data": {
      "text/plain": [
       "GridSearchCV(cv=3, error_score=nan,\n",
       "             estimator=SVC(C=1.0, break_ties=False, cache_size=200,\n",
       "                           class_weight=None, coef0=0.0,\n",
       "                           decision_function_shape='ovr', degree=3,\n",
       "                           gamma='scale', kernel='rbf', max_iter=-1,\n",
       "                           probability=False, random_state=None, shrinking=True,\n",
       "                           tol=0.001, verbose=False),\n",
       "             iid='deprecated', n_jobs=-1,\n",
       "             param_grid={'C': [0.01, 0.1, 1, 10, 100],\n",
       "                         'gamma': [0.001, 0.01, 0.1, 1, 10]},\n",
       "             pre_dispatch='2*n_jobs', refit=True, return_train_score=False,\n",
       "             scoring=None, verbose=1)"
      ]
     },
     "execution_count": 63,
     "metadata": {},
     "output_type": "execute_result"
    }
   ],
   "source": [
    "from sklearn.model_selection import GridSearchCV\n",
    "\n",
    "param_grid = {'C': [0.01, 0.1, 1, 10, 100], \n",
    "              'gamma': [0.001, 0.01, 0.1, 1, 10]}\n",
    "\n",
    "clf = SVC()\n",
    "grid = GridSearchCV(clf,\n",
    "                   param_grid,\n",
    "                   cv=3, \n",
    "                   verbose=1,  \n",
    "                  )\n",
    "grid.fit(X_train, y_train)"
   ]
  },
  {
   "cell_type": "code",
   "execution_count": 64,
   "metadata": {},
   "outputs": [
    {
     "data": {
      "text/plain": [
       "{'C': 10, 'gamma': 0.001}"
      ]
     },
     "execution_count": 64,
     "metadata": {},
     "output_type": "execute_result"
    }
   ],
   "source": [
    "grid.best_params_"
   ]
  },
  {
   "cell_type": "code",
   "execution_count": 92,
   "metadata": {},
   "outputs": [
    {
     "name": "stdout",
     "output_type": "stream",
     "text": [
      "For KNN, test accuracy = 0.6764705882352942.\n",
      "For KNN, k = 26.\n"
     ]
    }
   ],
   "source": [
    "acc_max = 0\n",
    "k= 0\n",
    "\n",
    "for i in range(5,100):\n",
    "    knn = KNeighborsClassifier(n_neighbors=i)\n",
    "    knn.fit(X_train, y_train)\n",
    "    y_pred = knn.predict(X_test)\n",
    "    acc = accuracy_score(y_test, y_pred)\n",
    "    if acc > acc_max:\n",
    "        acc_max = acc\n",
    "        k = i\n",
    "    else : \n",
    "        continue\n",
    " \n",
    "print(f\"For KNN, test accuracy = {acc_max}.\")\n",
    "print(f\"For KNN, k = {k}.\")"
   ]
  },
  {
   "cell_type": "code",
   "execution_count": 95,
   "metadata": {},
   "outputs": [
    {
     "name": "stdout",
     "output_type": "stream",
     "text": [
      "For LogR, test accuracy = 0.6596638655462185.\n",
      "For LogR, C = 0.01.\n"
     ]
    }
   ],
   "source": [
    "acc_max = 0\n",
    "c_best = 0\n",
    "C = [0.001, 0.005, 0.01, 0.05, 0.1, 0.5, 1, 5, 10, 50, 100]\n",
    "\n",
    "for i in C:\n",
    "    logr = LogisticRegression(C=i)\n",
    "    logr.fit(X_train, y_train)\n",
    "    y_pred = logr.predict(X_test)\n",
    "    acc = accuracy_score(y_test, y_pred)\n",
    "    if acc > acc_max:\n",
    "        acc_max = acc\n",
    "        c_best = i\n",
    "    else : \n",
    "        continue\n",
    " \n",
    "print(f\"For LogR, test accuracy = {acc_max}.\")\n",
    "print(f\"For LogR, C = {c_best}.\")"
   ]
  },
  {
   "cell_type": "code",
   "execution_count": 87,
   "metadata": {},
   "outputs": [
    {
     "name": "stdout",
     "output_type": "stream",
     "text": [
      "Fitting 3 folds for each of 16200 candidates, totalling 48600 fits\n"
     ]
    },
    {
     "name": "stderr",
     "output_type": "stream",
     "text": [
      "[Parallel(n_jobs=-1)]: Using backend LokyBackend with 4 concurrent workers.\n",
      "[Parallel(n_jobs=-1)]: Done  42 tasks      | elapsed:    2.3s\n",
      "[Parallel(n_jobs=-1)]: Done 192 tasks      | elapsed:    7.4s\n",
      "[Parallel(n_jobs=-1)]: Done 442 tasks      | elapsed:   17.1s\n",
      "[Parallel(n_jobs=-1)]: Done 792 tasks      | elapsed:   30.7s\n",
      "[Parallel(n_jobs=-1)]: Done 1242 tasks      | elapsed:   49.0s\n",
      "[Parallel(n_jobs=-1)]: Done 1792 tasks      | elapsed:  1.2min\n",
      "[Parallel(n_jobs=-1)]: Done 2442 tasks      | elapsed:  1.6min\n",
      "[Parallel(n_jobs=-1)]: Done 3192 tasks      | elapsed:  2.2min\n",
      "[Parallel(n_jobs=-1)]: Done 4042 tasks      | elapsed:  2.8min\n",
      "[Parallel(n_jobs=-1)]: Done 4992 tasks      | elapsed:  3.4min\n",
      "[Parallel(n_jobs=-1)]: Done 6042 tasks      | elapsed:  4.3min\n",
      "[Parallel(n_jobs=-1)]: Done 7192 tasks      | elapsed:  5.3min\n",
      "[Parallel(n_jobs=-1)]: Done 8442 tasks      | elapsed:  6.5min\n",
      "[Parallel(n_jobs=-1)]: Done 9792 tasks      | elapsed:  7.7min\n",
      "[Parallel(n_jobs=-1)]: Done 11242 tasks      | elapsed:  9.1min\n",
      "[Parallel(n_jobs=-1)]: Done 12792 tasks      | elapsed: 10.9min\n",
      "[Parallel(n_jobs=-1)]: Done 14442 tasks      | elapsed: 12.7min\n",
      "[Parallel(n_jobs=-1)]: Done 16192 tasks      | elapsed: 14.7min\n",
      "[Parallel(n_jobs=-1)]: Done 18042 tasks      | elapsed: 17.2min\n",
      "[Parallel(n_jobs=-1)]: Done 19992 tasks      | elapsed: 19.8min\n",
      "[Parallel(n_jobs=-1)]: Done 22042 tasks      | elapsed: 22.6min\n",
      "[Parallel(n_jobs=-1)]: Done 24192 tasks      | elapsed: 26.0min\n",
      "[Parallel(n_jobs=-1)]: Done 26442 tasks      | elapsed: 29.5min\n",
      "[Parallel(n_jobs=-1)]: Done 28792 tasks      | elapsed: 33.5min\n",
      "[Parallel(n_jobs=-1)]: Done 31242 tasks      | elapsed: 37.9min\n",
      "[Parallel(n_jobs=-1)]: Done 33792 tasks      | elapsed: 42.7min\n",
      "[Parallel(n_jobs=-1)]: Done 36442 tasks      | elapsed: 48.0min\n",
      "[Parallel(n_jobs=-1)]: Done 39192 tasks      | elapsed: 53.7min\n",
      "[Parallel(n_jobs=-1)]: Done 42042 tasks      | elapsed: 59.9min\n",
      "[Parallel(n_jobs=-1)]: Done 44992 tasks      | elapsed: 66.7min\n",
      "[Parallel(n_jobs=-1)]: Done 48042 tasks      | elapsed: 74.1min\n",
      "[Parallel(n_jobs=-1)]: Done 48600 out of 48600 | elapsed: 75.5min finished\n"
     ]
    },
    {
     "data": {
      "text/plain": [
       "GridSearchCV(cv=3, error_score=nan,\n",
       "             estimator=XGBClassifier(base_score=None, booster=None,\n",
       "                                     colsample_bylevel=None,\n",
       "                                     colsample_bynode=None,\n",
       "                                     colsample_bytree=None, eta=0.007,\n",
       "                                     gamma=None, gpu_id=None,\n",
       "                                     importance_type='gain',\n",
       "                                     interaction_constraints=None,\n",
       "                                     learning_rate=None, max_delta_step=None,\n",
       "                                     max_depth=4, min_child_weight=4,\n",
       "                                     missing=nan, monotone_constraints=None,\n",
       "                                     n_e...\n",
       "             iid='deprecated', n_jobs=-1,\n",
       "             param_grid={'colsample_bytree': array([0.1, 0.2, 0.3, 0.4, 0.5, 0.6, 0.7, 0.8, 0.9]),\n",
       "                         'eta': array([0.004, 0.005, 0.006, 0.007, 0.008, 0.009, 0.01 , 0.011]),\n",
       "                         'max_depth': range(3, 8),\n",
       "                         'min_child_weight': range(3, 8),\n",
       "                         'subsample': array([0.1, 0.2, 0.3, 0.4, 0.5, 0.6, 0.7, 0.8, 0.9])},\n",
       "             pre_dispatch='2*n_jobs', refit=True, return_train_score=False,\n",
       "             scoring=None, verbose=1)"
      ]
     },
     "execution_count": 87,
     "metadata": {},
     "output_type": "execute_result"
    }
   ],
   "source": [
    "from sklearn.model_selection import GridSearchCV\n",
    "\n",
    "param_grid = {'eta':np.arange(0.004, 0.012, 0.001), \n",
    "              'max_depth':range(3,8),\n",
    "              'colsample_bytree': np.arange(0.1, 1, 0.1), \n",
    "              'subsample': np.arange(0.1, 1, 0.1),\n",
    "              'min_child_weight':range(3,8)}\n",
    "\n",
    "clf = xgb.XGBClassifier(eta = 0.007, max_depth = 4, min_child_weight = 4)\n",
    "grid = GridSearchCV(clf,\n",
    "                   param_grid,\n",
    "                   cv=3, # In order to test the different hyperparameters (on the train set), \n",
    "                         # we use the `cross validation` technique.\n",
    "                         # 3 represents the number of folds of the cross-val.\n",
    "                   verbose=1,  # Setting Verbose adds some \"prints\" (logs) detailing\n",
    "                   n_jobs=-1    # what is happening in backend\n",
    "                                # The higher the setting, the higher the nb of logs printed\n",
    "                  )\n",
    "grid.fit(X_train, y_train)\n"
   ]
  },
  {
   "cell_type": "code",
   "execution_count": 86,
   "metadata": {},
   "outputs": [
    {
     "data": {
      "text/plain": [
       "array([0.1, 0.2, 0.3, 0.4, 0.5, 0.6, 0.7, 0.8, 0.9])"
      ]
     },
     "execution_count": 86,
     "metadata": {},
     "output_type": "execute_result"
    }
   ],
   "source": []
  },
  {
   "cell_type": "code",
   "execution_count": null,
   "metadata": {},
   "outputs": [],
   "source": []
  },
  {
   "cell_type": "code",
   "execution_count": null,
   "metadata": {},
   "outputs": [],
   "source": []
  },
  {
   "cell_type": "code",
   "execution_count": null,
   "metadata": {},
   "outputs": [],
   "source": []
  },
  {
   "cell_type": "code",
   "execution_count": null,
   "metadata": {},
   "outputs": [],
   "source": []
  },
  {
   "cell_type": "code",
   "execution_count": null,
   "metadata": {},
   "outputs": [],
   "source": []
  },
  {
   "cell_type": "code",
   "execution_count": null,
   "metadata": {},
   "outputs": [],
   "source": []
  },
  {
   "cell_type": "code",
   "execution_count": null,
   "metadata": {},
   "outputs": [],
   "source": []
  },
  {
   "cell_type": "code",
   "execution_count": null,
   "metadata": {},
   "outputs": [],
   "source": []
  },
  {
   "cell_type": "code",
   "execution_count": null,
   "metadata": {},
   "outputs": [],
   "source": []
  },
  {
   "cell_type": "code",
   "execution_count": null,
   "metadata": {},
   "outputs": [],
   "source": []
  }
 ],
 "metadata": {
  "kernelspec": {
   "display_name": "Python 3",
   "language": "python",
   "name": "python3"
  },
  "language_info": {
   "codemirror_mode": {
    "name": "ipython",
    "version": 3
   },
   "file_extension": ".py",
   "mimetype": "text/x-python",
   "name": "python",
   "nbconvert_exporter": "python",
   "pygments_lexer": "ipython3",
   "version": "3.7.6"
  }
 },
 "nbformat": 4,
 "nbformat_minor": 4
}
